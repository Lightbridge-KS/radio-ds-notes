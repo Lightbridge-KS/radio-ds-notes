{
 "cells": [
  {
   "cell_type": "markdown",
   "metadata": {},
   "source": [
    "# `Pydicom` DICOM Tags"
   ]
  },
  {
   "cell_type": "code",
   "execution_count": 3,
   "metadata": {},
   "outputs": [],
   "source": [
    "from pyhere import here\n",
    "from pydicom import dcmread\n"
   ]
  },
  {
   "cell_type": "markdown",
   "metadata": {},
   "source": [
    "## Read"
   ]
  },
  {
   "cell_type": "code",
   "execution_count": 2,
   "metadata": {},
   "outputs": [
    {
     "data": {
      "text/plain": [
       "Dataset.file_meta -------------------------------\n",
       "(0002,0000) File Meta Information Group Length  UL: 204\n",
       "(0002,0001) File Meta Information Version       OB: b'\\x00\\x01'\n",
       "(0002,0002) Media Storage SOP Class UID         UI: MR Image Storage\n",
       "(0002,0003) Media Storage SOP Instance UID      UI: 1.3.6.1.4.1.14519.5.2.1.224599622610134734824248166322625258212\n",
       "(0002,0010) Transfer Syntax UID                 UI: Implicit VR Little Endian\n",
       "(0002,0012) Implementation Class UID            UI: 1.3.6.1.4.1.22213.1.143\n",
       "(0002,0013) Implementation Version Name         SH: '0.5'\n",
       "(0002,0016) Source Application Entity Title     AE: 'POSDA'\n",
       "-------------------------------------------------\n",
       "(0008,0005) Specific Character Set              CS: 'ISO_IR 100'\n",
       "(0008,0008) Image Type                          CS: ['DERIVED', 'SECONDARY', 'OTHER']\n",
       "(0008,0012) Instance Creation Date              DA: '20020206'\n",
       "(0008,0013) Instance Creation Time              TM: '120146.015000'\n",
       "(0008,0016) SOP Class UID                       UI: MR Image Storage\n",
       "(0008,0018) SOP Instance UID                    UI: 1.3.6.1.4.1.14519.5.2.1.224599622610134734824248166322625258212\n",
       "(0008,0020) Study Date                          DA: '20020206'\n",
       "(0008,0021) Series Date                         DA: '20020206'\n",
       "(0008,0022) Acquisition Date                    DA: '20020206'\n",
       "(0008,0023) Content Date                        DA: '20020206'\n",
       "(0008,0030) Study Time                          TM: '152432'\n",
       "(0008,0031) Series Time                         TM: '120146.015000'\n",
       "(0008,0032) Acquisition Time                    TM: '120029.655000'\n",
       "(0008,0033) Content Time                        TM: '120146.015000'\n",
       "(0008,0050) Accession Number                    SH: ''\n",
       "(0008,0060) Modality                            CS: 'MR'\n",
       "(0008,0070) Manufacturer                        LO: 'SIEMENS'\n",
       "(0008,0090) Referring Physician's Name          PN: ''\n",
       "(0008,1030) Study Description                   LO: 'BRAIN^ROUTINE'\n",
       "(0008,103E) Series Description                  LO: 't2_Flair_axial: Processed_CaPTk'\n",
       "(0008,1090) Manufacturer's Model Name           LO: 'TrioTim'\n",
       "(0010,0010) Patient's Name                      PN: 'UPENN-GBM-00001'\n",
       "(0010,0020) Patient ID                          LO: 'UPENN-GBM-00001'\n",
       "(0010,0030) Patient's Birth Date                DA: ''\n",
       "(0010,0040) Patient's Sex                       CS: 'F'\n",
       "(0010,1010) Patient's Age                       AS: '052Y'\n",
       "(0010,1020) Patient's Size                      DS: '1.676403355'\n",
       "(0010,1030) Patient's Weight                    DS: '68.038864155'\n",
       "(0010,21C0) Pregnancy Status                    US: 4\n",
       "(0012,0050) Clinical Trial Time Point ID        LO: '0'\n",
       "(0012,0051) Clinical Trial Time Point Descripti ST: 'Days offset from diagnosis'\n",
       "(0012,0062) Patient Identity Removed            CS: 'YES'\n",
       "(0012,0063) De-identification Method            LO: 'Per DICOM PS 3.15 AnnexE. Details in 0012,0064'\n",
       "(0012,0064)  De-identification Method Code Sequence  8 item(s) ---- \n",
       "   (0008,0100) Code Value                          SH: '113100'\n",
       "   (0008,0102) Coding Scheme Designator            SH: 'DCM'\n",
       "   (0008,0104) Code Meaning                        LO: 'Basic Application Confidentiality Profile'\n",
       "   ---------\n",
       "   (0008,0100) Code Value                          SH: '113101'\n",
       "   (0008,0102) Coding Scheme Designator            SH: 'DCM'\n",
       "   (0008,0104) Code Meaning                        LO: 'Clean Pixel Data Option'\n",
       "   ---------\n",
       "   (0008,0100) Code Value                          SH: '113104'\n",
       "   (0008,0102) Coding Scheme Designator            SH: 'DCM'\n",
       "   (0008,0104) Code Meaning                        LO: 'Clean Structured Content Option'\n",
       "   ---------\n",
       "   (0008,0100) Code Value                          SH: '113105'\n",
       "   (0008,0102) Coding Scheme Designator            SH: 'DCM'\n",
       "   (0008,0104) Code Meaning                        LO: 'Clean Descriptors Option'\n",
       "   ---------\n",
       "   (0008,0100) Code Value                          SH: '113107'\n",
       "   (0008,0102) Coding Scheme Designator            SH: 'DCM'\n",
       "   (0008,0104) Code Meaning                        LO: 'Retain Longitudinal Temporal Information Modified Dates Option'\n",
       "   ---------\n",
       "   (0008,0100) Code Value                          SH: '113108'\n",
       "   (0008,0102) Coding Scheme Designator            SH: 'DCM'\n",
       "   (0008,0104) Code Meaning                        LO: 'Retain Patient Characteristics Option'\n",
       "   ---------\n",
       "   (0008,0100) Code Value                          SH: '113109'\n",
       "   (0008,0102) Coding Scheme Designator            SH: 'DCM'\n",
       "   (0008,0104) Code Meaning                        LO: 'Retain Device Identity Option'\n",
       "   ---------\n",
       "   (0008,0100) Code Value                          SH: '113111'\n",
       "   (0008,0102) Coding Scheme Designator            SH: 'DCM'\n",
       "   (0008,0104) Code Meaning                        LO: 'Retain Safe Private Option'\n",
       "   ---------\n",
       "(0013,0010) Private Creator                     LO: 'CTP'\n",
       "(0013,1010) Private tag data                    UN: b'UPENN-GBM '\n",
       "(0013,1013) Private tag data                    UN: b'35191158'\n",
       "(0018,0010) Contrast/Bolus Agent                LO: 'OMNISCAN 3.0 + 12.0'\n",
       "(0018,0015) Body Part Examined                  CS: 'BRAIN'\n",
       "(0018,0020) Scanning Sequence                   CS: ['SE', 'IR']\n",
       "(0018,0021) Sequence Variant                    CS: ['SK', 'SP', 'MP', 'OSP']\n",
       "(0018,0022) Scan Options                        CS: 'IR'\n",
       "(0018,0023) MR Acquisition Type                 CS: '2D'\n",
       "(0018,0024) Sequence Name                       SH: '*tir2d1rs13'\n",
       "(0018,0025) Angio Flag                          CS: 'N'\n",
       "(0018,0050) Slice Thickness                     DS: '3'\n",
       "(0018,0080) Repetition Time                     DS: '9420'\n",
       "(0018,0081) Echo Time                           DS: '140'\n",
       "(0018,0082) Inversion Time                      DS: '2500'\n",
       "(0018,0083) Number of Averages                  DS: '1'\n",
       "(0018,0084) Imaging Frequency                   DS: '123.256693'\n",
       "(0018,0085) Imaged Nucleus                      SH: '1H'\n",
       "(0018,0086) Echo Number(s)                      IS: '1'\n",
       "(0018,0087) Magnetic Field Strength             DS: '3'\n",
       "(0018,0088) Spacing Between Slices              DS: '1'\n",
       "(0018,0089) Number of Phase Encoding Steps      IS: '207'\n",
       "(0018,0091) Echo Train Length                   IS: '13'\n",
       "(0018,0093) Percent Sampling                    DS: '100'\n",
       "(0018,0094) Percent Phase Field of View         DS: '75'\n",
       "(0018,0095) Pixel Bandwidth                     DS: '285'\n",
       "(0018,1000) Device Serial Number                LO: ''\n",
       "(0018,1020) Software Versions                   LO: 'syngo MR B13 4VB13A'\n",
       "(0018,1030) Protocol Name                       LO: 't2_Flair_axial'\n",
       "(0018,1041) Contrast/Bolus Volume               DS: '3'\n",
       "(0018,1044) Contrast/Bolus Total Dose           DS: '0'\n",
       "(0018,1048) Contrast/Bolus Ingredient           CS: ''\n",
       "(0018,1049) Contrast/Bolus Ingredient Concentra DS: '0'\n",
       "(0018,1251) Transmit Coil Name                  SH: 'Body'\n",
       "(0018,1310) Acquisition Matrix                  US: [0, 256, 192, 0]\n",
       "(0018,1312) In-plane Phase Encoding Direction   CS: 'ROW'\n",
       "(0018,1314) Flip Angle                          DS: '170'\n",
       "(0018,1315) Variable Flip Angle Flag            CS: 'N'\n",
       "(0018,1316) SAR                                 DS: '0.70089428846153'\n",
       "(0018,1318) dB/dt                               DS: '0'\n",
       "(0018,5100) Patient Position                    CS: 'HFS'\n",
       "(0020,000D) Study Instance UID                  UI: 1.3.6.1.4.1.14519.5.2.1.325722981077189157104874710559665333106\n",
       "(0020,000E) Series Instance UID                 UI: 1.3.6.1.4.1.14519.5.2.1.72111832425535404540752357374191117693\n",
       "(0020,0010) Study ID                            SH: ''\n",
       "(0020,0011) Series Number                       IS: '2'\n",
       "(0020,0012) Acquisition Number                  IS: '1'\n",
       "(0020,0013) Instance Number                     IS: '1'\n",
       "(0020,0032) Image Position (Patient)            DS: [-87.807015311909, -144.35366297552, -67.675415039063]\n",
       "(0020,0037) Image Orientation (Patient)         DS: [0.9999984769134, -0.0017453283007, 0, 0.00174532830068, 0.9999984769134, 0]\n",
       "(0020,0052) Frame of Reference UID              UI: 1.3.6.1.4.1.14519.5.2.1.74866969049680606431110099032071163024\n",
       "(0020,1040) Position Reference Indicator        LO: ''\n",
       "(0020,1041) Slice Location                      DS: '-67.675415039063'\n",
       "(0028,0002) Samples per Pixel                   US: 1\n",
       "(0028,0004) Photometric Interpretation          CS: 'MONOCHROME2'\n",
       "(0028,0010) Rows                                US: 256\n",
       "(0028,0011) Columns                             US: 192\n",
       "(0028,0030) Pixel Spacing                       DS: [0.9375, 0.9375]\n",
       "(0028,0100) Bits Allocated                      US: 16\n",
       "(0028,0101) Bits Stored                         US: 16\n",
       "(0028,0102) High Bit                            US: 15\n",
       "(0028,0103) Pixel Representation                US: 0\n",
       "(0028,0106) Smallest Image Pixel Value          US: 0\n",
       "(0028,0107) Largest Image Pixel Value           US: 1580\n",
       "(0028,0303) Longitudinal Temporal Information M CS: 'MODIFIED'\n",
       "(0028,1050) Window Center                       DS: '554'\n",
       "(0028,1051) Window Width                        DS: '1187'\n",
       "(0028,1052) Rescale Intercept                   DS: '0'\n",
       "(0028,1053) Rescale Slope                       DS: '1'\n",
       "(0028,1054) Rescale Type                        LO: 'US'\n",
       "(0028,1055) Window Center & Width Explanation   LO: 'Algo1'\n",
       "(0032,1060) Requested Procedure Description     LO: 'MRSPC'\n",
       "(0040,0244) Performed Procedure Step Start Date DA: '20020206'\n",
       "(0040,0245) Performed Procedure Step Start Time TM: '115758.968000'\n",
       "(0040,0254) Performed Procedure Step Descriptio LO: 'MRSPC'\n",
       "(7FE0,0010) Pixel Data                          OW: Array of 98304 elements"
      ]
     },
     "execution_count": 2,
     "metadata": {},
     "output_type": "execute_result"
    }
   ],
   "source": [
    "upenn1_dcm1 = dcmread(here(\"data/MRI-DICOM/UPENN-GBM-00001/02-06-2002-NA-BRAINROUTINE-33106/2.000000-t2Flairaxial ProcessedCaPTk-17693/1-01.dcm\"))\n",
    "upenn1_dcm1"
   ]
  },
  {
   "cell_type": "markdown",
   "metadata": {},
   "source": [
    "## Get DICOM Tags (Single `.dcm`)"
   ]
  },
  {
   "cell_type": "markdown",
   "metadata": {},
   "source": [
    "### Use DICOM Attribute Names"
   ]
  },
  {
   "cell_type": "code",
   "execution_count": 4,
   "metadata": {},
   "outputs": [
    {
     "data": {
      "text/plain": [
       "'UPENN-GBM-00001'"
      ]
     },
     "execution_count": 4,
     "metadata": {},
     "output_type": "execute_result"
    }
   ],
   "source": [
    "upenn1_dcm1.PatientID"
   ]
  },
  {
   "cell_type": "markdown",
   "metadata": {},
   "source": [
    "### Use DICOM Tags"
   ]
  },
  {
   "cell_type": "markdown",
   "metadata": {},
   "source": [
    "(0010,0020) is a tag for Patient ID"
   ]
  },
  {
   "cell_type": "code",
   "execution_count": 16,
   "metadata": {},
   "outputs": [
    {
     "name": "stdout",
     "output_type": "stream",
     "text": [
      "(0010,0020) Patient ID                          LO: 'UPENN-GBM-00001'\n",
      "(0010,0020) Patient ID                          LO: 'UPENN-GBM-00001'\n"
     ]
    }
   ],
   "source": [
    "# Access the value of a tag directly using its group and element number, represented as a tuple (group, element).\n",
    "print(upenn1_dcm1[0x10, 0x20])\n",
    "\n",
    "print(upenn1_dcm1.get((0x0010, 0x0020)))"
   ]
  },
  {
   "cell_type": "markdown",
   "metadata": {},
   "source": [
    "**Safe Access:**"
   ]
  },
  {
   "cell_type": "code",
   "execution_count": 21,
   "metadata": {},
   "outputs": [
    {
     "data": {
      "text/plain": [
       "(0010,0020) Patient ID                          LO: 'UPENN-GBM-00001'"
      ]
     },
     "execution_count": 21,
     "metadata": {},
     "output_type": "execute_result"
    }
   ],
   "source": [
    "upenn1_dcm1.get((0x0010, 0x0020), \"Unknown\")"
   ]
  },
  {
   "cell_type": "code",
   "execution_count": 22,
   "metadata": {},
   "outputs": [
    {
     "data": {
      "text/plain": [
       "'Unknown'"
      ]
     },
     "execution_count": 22,
     "metadata": {},
     "output_type": "execute_result"
    }
   ],
   "source": [
    "# (0008,1010): Station Name\n",
    "upenn1_dcm1.get((0x0008, 0x1010), \"Unknown\")"
   ]
  },
  {
   "cell_type": "markdown",
   "metadata": {},
   "source": [
    "### Loop over tags"
   ]
  },
  {
   "cell_type": "code",
   "execution_count": 24,
   "metadata": {},
   "outputs": [
    {
     "name": "stdout",
     "output_type": "stream",
     "text": [
      "Patient ID: UPENN-GBM-00001\n"
     ]
    }
   ],
   "source": [
    "# Iterate through all tags to find Patient ID\n",
    "for tag in upenn1_dcm1:\n",
    "    if tag.tag == (0x0010, 0x0020):  # Check for (0010,0020)\n",
    "        print(\"Patient ID:\", tag.value)\n",
    "        break"
   ]
  },
  {
   "cell_type": "markdown",
   "metadata": {},
   "source": [
    "## Function: `DcmMetaExtractor()`"
   ]
  },
  {
   "cell_type": "code",
   "execution_count": 4,
   "metadata": {},
   "outputs": [],
   "source": [
    "import pydicom\n",
    "import pandas as pd\n",
    "import warnings\n",
    "\n",
    "class DcmMetaExtractor:\n",
    "    def __init__(self, tags_to_extract=None):\n",
    "        \"\"\"\n",
    "        Initialize the DICOMExtractor with tags to extract.\n",
    "        \"\"\"\n",
    "        self.tags_to_extract = tags_to_extract or {\n",
    "            (0x0008, 0x0070): \"Manufacturer\",\n",
    "            (0x0008, 0x1090): \"Manufacturer's Model Name\",\n",
    "            (0x0018, 0x0087): \"Magnetic Field Strength\",\n",
    "            (0x0018, 0x0050): \"Slice Thickness\",\n",
    "            (0x0018, 0x0088): \"Spacing Between Slices\",\n",
    "            (0x0018, 0x0080): \"Repetition Time\",\n",
    "            (0x0018, 0x0081): \"Echo Time\",\n",
    "            (0x0018, 0x1314): \"Flip Angle\"\n",
    "        }\n",
    "\n",
    "    def extract_tags(self, fp):\n",
    "        \"\"\"\n",
    "        Extract specified tags from the DICOM file and return as a pandas Series.\n",
    "        \n",
    "        Parameters:\n",
    "            fp (str): Path to the DICOM file.\n",
    "        \n",
    "        Returns:\n",
    "            pd.Series: A pandas Series containing the extracted tags with missing values as pd.NA.\n",
    "        \"\"\"\n",
    "        try:\n",
    "            # Read the DICOM file\n",
    "            ds = pydicom.dcmread(fp)\n",
    "            \n",
    "            # Initialize a dictionary to store the results\n",
    "            results = {}\n",
    "            \n",
    "            # Extract values for the specified tags\n",
    "            for tag, name in self.tags_to_extract.items():\n",
    "                element = ds.get(tag)  # Get the DataElement for the tag\n",
    "                results[name] = element.value if element is not None else pd.NA\n",
    "        \n",
    "        except Exception as e:\n",
    "            # Log a warning and create a dictionary with all fields set to pd.NA\n",
    "            warnings.warn(f\"Failed to read DICOM file '{fp}'. Returning missing values. Reason: {e}\")\n",
    "            results = {name: pd.NA for name in self.tags_to_extract.values()}\n",
    "        \n",
    "        # Convert the results dictionary to a pandas Series\n",
    "        return pd.Series(results)\n"
   ]
  },
  {
   "cell_type": "code",
   "execution_count": 5,
   "metadata": {},
   "outputs": [
    {
     "data": {
      "text/plain": [
       "Manufacturer                 SIEMENS\n",
       "Manufacturer's Model Name    TrioTim\n",
       "Magnetic Field Strength          3.0\n",
       "Slice Thickness                  3.0\n",
       "Spacing Between Slices           1.0\n",
       "Repetition Time               9420.0\n",
       "Echo Time                      140.0\n",
       "Flip Angle                     170.0\n",
       "dtype: object"
      ]
     },
     "execution_count": 5,
     "metadata": {},
     "output_type": "execute_result"
    }
   ],
   "source": [
    "dcm_extractor = DcmMetaExtractor()\n",
    "\n",
    "dcm_extractor.extract_tags(here(\"data/MRI-DICOM/UPENN-GBM-00001/02-06-2002-NA-BRAINROUTINE-33106/2.000000-t2Flairaxial ProcessedCaPTk-17693/1-01.dcm\"))"
   ]
  }
 ],
 "metadata": {
  "kernelspec": {
   "display_name": "Python 3",
   "language": "python",
   "name": "python3"
  },
  "language_info": {
   "codemirror_mode": {
    "name": "ipython",
    "version": 3
   },
   "file_extension": ".py",
   "mimetype": "text/x-python",
   "name": "python",
   "nbconvert_exporter": "python",
   "pygments_lexer": "ipython3",
   "version": "3.10.10"
  }
 },
 "nbformat": 4,
 "nbformat_minor": 2
}
