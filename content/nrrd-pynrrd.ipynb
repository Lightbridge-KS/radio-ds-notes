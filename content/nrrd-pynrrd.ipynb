{
 "cells": [
  {
   "cell_type": "markdown",
   "metadata": {},
   "source": [
    "# PyNRRD"
   ]
  },
  {
   "cell_type": "code",
   "execution_count": null,
   "metadata": {},
   "outputs": [],
   "source": [
    "from pyhere import here\n",
    "import pandas as pd\n",
    "\n",
    "import nrrd"
   ]
  },
  {
   "cell_type": "markdown",
   "metadata": {},
   "source": [
    "## `seg.nrrd`"
   ]
  },
  {
   "cell_type": "markdown",
   "metadata": {},
   "source": [
    "### Print `seg.nrrd` file Info"
   ]
  },
  {
   "cell_type": "code",
   "execution_count": 11,
   "metadata": {},
   "outputs": [],
   "source": [
    "import nrrd\n",
    "\n",
    "def print_seg_nrrd_info(path):\n",
    "    \"\"\"Print segment information from NRRD file.\n",
    "    \"\"\"\n",
    "    # Load the NRRD file\n",
    "    data, header = nrrd.read(path)\n",
    "\n",
    "    # Initialize a dictionary to store segment information \n",
    "    segments_info = {}\n",
    "\n",
    "    # Loop through metadata to extract segment information\n",
    "    for i in range(2):  # Assuming 2 segments\n",
    "        segment_id = header.get(f'Segment{i}_ID', 'N/A')\n",
    "        label_value = header.get(f'Segment{i}_LabelValue', 'N/A')\n",
    "        layer = header.get(f'Segment{i}_Layer', 'N/A')\n",
    "        name = header.get(f'Segment{i}_Name', 'N/A')\n",
    "        \n",
    "        # Store information in dictionary\n",
    "        segments_info[f'Segment_{i}'] = {\n",
    "            'ID': segment_id,\n",
    "            'LabelValue': label_value,\n",
    "            'Layer': layer,\n",
    "            'Name': name\n",
    "        }\n",
    "\n",
    "    # Display the extracted segment information\n",
    "    for segment, info in segments_info.items():\n",
    "        print(f\"{segment} Info:\")\n",
    "        print(f\"  ID: {info['ID']}\")\n",
    "        print(f\"  LabelValue: {info['LabelValue']}\")\n",
    "        print(f\"  Layer: {info['Layer']}\")\n",
    "        print(f\"  Name: {info['Name']}\\n\")"
   ]
  },
  {
   "cell_type": "code",
   "execution_count": 12,
   "metadata": {},
   "outputs": [
    {
     "name": "stdout",
     "output_type": "stream",
     "text": [
      "Segment_0 Info:\n",
      "  ID: Segment_1\n",
      "  LabelValue: 1\n",
      "  Layer: 0\n",
      "  Name: Segment_LE\n",
      "\n",
      "Segment_1 Info:\n",
      "  ID: Segment_2\n",
      "  LabelValue: 2\n",
      "  Layer: 0\n",
      "  Name: Segment_RE\n",
      "\n"
     ]
    }
   ],
   "source": [
    "print_seg_nrrd_info(here(\"data/MRI-Brain-Eye/Case1/Segmentation.seg.nrrd\"))"
   ]
  },
  {
   "cell_type": "markdown",
   "metadata": {},
   "source": [
    "### Get Label value by Name"
   ]
  },
  {
   "cell_type": "code",
   "execution_count": 15,
   "metadata": {},
   "outputs": [],
   "source": [
    "import nrrd\n",
    "\n",
    "def get_labelvalue_by_name(maskFilepath, name):\n",
    "    \"\"\"\n",
    "    Retrieves the LabelValue of a segment given its name in a segmentation mask file.\n",
    "    \n",
    "    Parameters:\n",
    "    - name (str): The name of the segment (e.g., \"Segment_LE\" or \"Segment_RE\").\n",
    "    - maskFilepath (str): Path to the segmentation mask file (.seg.nrrd).\n",
    "    \n",
    "    Returns:\n",
    "    - int: The LabelValue associated with the given segment name.\n",
    "    - None: If the segment name is not found.\n",
    "    \"\"\"\n",
    "    # Load the header of the NRRD file\n",
    "    _, header = nrrd.read(maskFilepath)\n",
    "    \n",
    "    # Loop through the header to find the segment with the specified name\n",
    "    segment_index = 0\n",
    "    while True:\n",
    "        # Construct the segment name key\n",
    "        segment_name_key = f'Segment{segment_index}_Name'\n",
    "        \n",
    "        # Check if this segment key exists in the header\n",
    "        if segment_name_key not in header:\n",
    "            # If the key does not exist, we have exhausted all segments\n",
    "            break\n",
    "        \n",
    "        # Check if this segment's name matches the specified name\n",
    "        if header[segment_name_key] == name:\n",
    "            # If it matches, retrieve the LabelValue for this segment\n",
    "            label_value_key = f'Segment{segment_index}_LabelValue'\n",
    "            return int(header[label_value_key])\n",
    "        \n",
    "        # Move to the next segment index\n",
    "        segment_index += 1\n",
    "    \n",
    "    # Return None if the segment name was not found\n",
    "    print(f\"Segment with name '{name}' not found in the file '{maskFilepath}'.\")\n",
    "    return None\n"
   ]
  },
  {
   "cell_type": "code",
   "execution_count": 16,
   "metadata": {},
   "outputs": [
    {
     "data": {
      "text/plain": [
       "1"
      ]
     },
     "execution_count": 16,
     "metadata": {},
     "output_type": "execute_result"
    }
   ],
   "source": [
    "get_labelvalue_by_name(here(\"data/MRI-Brain-Eye/Case1/Segmentation.seg.nrrd\"), \"Segment_LE\")"
   ]
  },
  {
   "cell_type": "code",
   "execution_count": 18,
   "metadata": {},
   "outputs": [
    {
     "data": {
      "text/plain": [
       "2"
      ]
     },
     "execution_count": 18,
     "metadata": {},
     "output_type": "execute_result"
    }
   ],
   "source": [
    "get_labelvalue_by_name(here(\"data/MRI-Brain-Eye/Case1/Segmentation.seg.nrrd\"), \"Segment_RE\")"
   ]
  }
 ],
 "metadata": {
  "kernelspec": {
   "display_name": "Python 3",
   "language": "python",
   "name": "python3"
  },
  "language_info": {
   "codemirror_mode": {
    "name": "ipython",
    "version": 3
   },
   "file_extension": ".py",
   "mimetype": "text/x-python",
   "name": "python",
   "nbconvert_exporter": "python",
   "pygments_lexer": "ipython3",
   "version": "3.10.10"
  }
 },
 "nbformat": 4,
 "nbformat_minor": 2
}
