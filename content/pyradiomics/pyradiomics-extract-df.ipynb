{
 "cells": [
  {
   "cell_type": "markdown",
   "metadata": {},
   "source": [
    "# Pyradiomics - Extract to DF"
   ]
  },
  {
   "cell_type": "code",
   "execution_count": 11,
   "metadata": {},
   "outputs": [],
   "source": [
    "from pyhere import here\n",
    "import pandas as pd"
   ]
  },
  {
   "cell_type": "code",
   "execution_count": 17,
   "metadata": {},
   "outputs": [],
   "source": [
    "from radiomics import featureextractor\n",
    "\n",
    "# Initialize the RadiomicsFeatureExtractor\n",
    "extractor = featureextractor.RadiomicsFeatureExtractor()"
   ]
  },
  {
   "cell_type": "markdown",
   "metadata": {},
   "source": [
    "## Extract One File"
   ]
  },
  {
   "cell_type": "code",
   "execution_count": null,
   "metadata": {},
   "outputs": [],
   "source": [
    "import pandas as pd\n",
    "import os\n",
    "\n",
    "# Define a function to apply to each row\n",
    "def extract_radiomics_features(imageFilepath, maskFilepath, label):\n",
    "    # Check if image, mask file, and label exist\n",
    "    if not os.path.exists(imageFilepath) or not os.path.exists(maskFilepath) or pd.isna(label):\n",
    "        # If any of these are missing, return NA values\n",
    "        return pd.Series([pd.NA] * len(extractor.enabledFeatures.keys()))\n",
    "    \n",
    "    # Try to extract features, return NA if an error occurs\n",
    "    result = extractor.execute(imageFilepath=imageFilepath,\n",
    "                               maskFilepath=maskFilepath,\n",
    "                               label=int(label))\n",
    "        \n",
    "    return pd.Series(result)"
   ]
  },
  {
   "cell_type": "code",
   "execution_count": 14,
   "metadata": {},
   "outputs": [
    {
     "name": "stderr",
     "output_type": "stream",
     "text": [
      "GLCM is symmetrical, therefore Sum Average = 2 * Joint Average, only 1 needs to be calculated\n"
     ]
    },
    {
     "data": {
      "text/plain": [
       "diagnostics_Versions_PyRadiomics                   v3.0.1\n",
       "diagnostics_Versions_Numpy                         1.26.4\n",
       "diagnostics_Versions_SimpleITK               2.3.1-g42ce2\n",
       "diagnostics_Versions_PyWavelet                      1.5.0\n",
       "diagnostics_Versions_Python                       3.10.10\n",
       "                                            ...          \n",
       "original_ngtdm_Busyness                3.5402573095824215\n",
       "original_ngtdm_Coarseness           0.0009334119757378282\n",
       "original_ngtdm_Complexity              1483.2263634997792\n",
       "original_ngtdm_Contrast               0.10701153309807594\n",
       "original_ngtdm_Strength                1.0848440176409921\n",
       "Length: 129, dtype: object"
      ]
     },
     "execution_count": 14,
     "metadata": {},
     "output_type": "execute_result"
    }
   ],
   "source": [
    "extract_radiomics_features(\"../../data/MRI-Brain-Eye/Case1/3 t1 axial Processed_CaPTk.nrrd\",\n",
    "                           \"../../data/MRI-Brain-Eye/Case1/Segmentation.seg.nrrd\",\n",
    "                           1)"
   ]
  },
  {
   "cell_type": "markdown",
   "metadata": {},
   "source": [
    "## Extract Features to DF"
   ]
  },
  {
   "cell_type": "code",
   "execution_count": 18,
   "metadata": {},
   "outputs": [],
   "source": [
    "import pandas as pd\n",
    "import os\n",
    "from radiomics import featureextractor\n",
    "\n",
    "\n",
    "# Initialize the RadiomicsFeatureExtractor\n",
    "extractor = featureextractor.RadiomicsFeatureExtractor()\n",
    "\n",
    "def radiomics_extract_to_df(imageFilepaths, maskFilepaths, labels):\n",
    "    \"\"\"\n",
    "    Extracts radiomics features for a list of image and mask file paths with specified labels.\n",
    "    \n",
    "    Parameters:\n",
    "    - imageFilepaths: list or pandas series of paths to image files\n",
    "    - maskFilepaths: list or pandas series of paths to mask files\n",
    "    - labels: list or pandas series of labels to be used for feature extraction\n",
    "    \n",
    "    Returns:\n",
    "    - DataFrame with radiomics features, one row per image, mask, and label combination.\n",
    "    \"\"\"\n",
    "    # Create a DataFrame to store the file paths and labels\n",
    "    df = pd.DataFrame({\n",
    "        \"imageFilepath\": imageFilepaths,\n",
    "        \"maskFilepath\": maskFilepaths,\n",
    "        \"label\": labels\n",
    "    })\n",
    "\n",
    "    # Apply the feature extraction function to each row\n",
    "    features_df = df.apply(lambda row: extract_radiomics_features(row[\"imageFilepath\"], row[\"maskFilepath\"], row[\"label\"]), axis=1)\n",
    "\n",
    "    # Combine original file information with extracted features\n",
    "    result_df = pd.concat([df, features_df], axis=1)\n",
    "\n",
    "    return result_df\n"
   ]
  },
  {
   "cell_type": "code",
   "execution_count": 19,
   "metadata": {},
   "outputs": [
    {
     "name": "stderr",
     "output_type": "stream",
     "text": [
      "GLCM is symmetrical, therefore Sum Average = 2 * Joint Average, only 1 needs to be calculated\n",
      "GLCM is symmetrical, therefore Sum Average = 2 * Joint Average, only 1 needs to be calculated\n"
     ]
    },
    {
     "data": {
      "text/html": [
       "<div>\n",
       "<style scoped>\n",
       "    .dataframe tbody tr th:only-of-type {\n",
       "        vertical-align: middle;\n",
       "    }\n",
       "\n",
       "    .dataframe tbody tr th {\n",
       "        vertical-align: top;\n",
       "    }\n",
       "\n",
       "    .dataframe thead th {\n",
       "        text-align: right;\n",
       "    }\n",
       "</style>\n",
       "<table border=\"1\" class=\"dataframe\">\n",
       "  <thead>\n",
       "    <tr style=\"text-align: right;\">\n",
       "      <th></th>\n",
       "      <th>imageFilepath</th>\n",
       "      <th>maskFilepath</th>\n",
       "      <th>label</th>\n",
       "      <th>diagnostics_Versions_PyRadiomics</th>\n",
       "      <th>diagnostics_Versions_Numpy</th>\n",
       "      <th>diagnostics_Versions_SimpleITK</th>\n",
       "      <th>diagnostics_Versions_PyWavelet</th>\n",
       "      <th>diagnostics_Versions_Python</th>\n",
       "      <th>diagnostics_Configuration_Settings</th>\n",
       "      <th>diagnostics_Configuration_EnabledImageTypes</th>\n",
       "      <th>...</th>\n",
       "      <th>original_glszm_SmallAreaHighGrayLevelEmphasis</th>\n",
       "      <th>original_glszm_SmallAreaLowGrayLevelEmphasis</th>\n",
       "      <th>original_glszm_ZoneEntropy</th>\n",
       "      <th>original_glszm_ZonePercentage</th>\n",
       "      <th>original_glszm_ZoneVariance</th>\n",
       "      <th>original_ngtdm_Busyness</th>\n",
       "      <th>original_ngtdm_Coarseness</th>\n",
       "      <th>original_ngtdm_Complexity</th>\n",
       "      <th>original_ngtdm_Contrast</th>\n",
       "      <th>original_ngtdm_Strength</th>\n",
       "    </tr>\n",
       "  </thead>\n",
       "  <tbody>\n",
       "    <tr>\n",
       "      <th>0</th>\n",
       "      <td>../../data/MRI-Brain-Eye/Case1/3 t1 axial Proc...</td>\n",
       "      <td>../../data/MRI-Brain-Eye/Case1/Segmentation.se...</td>\n",
       "      <td>1</td>\n",
       "      <td>v3.0.1</td>\n",
       "      <td>1.26.4</td>\n",
       "      <td>2.3.1-g42ce2</td>\n",
       "      <td>1.5.0</td>\n",
       "      <td>3.10.10</td>\n",
       "      <td>{'minimumROIDimensions': 2, 'minimumROISize': ...</td>\n",
       "      <td>{'Original': {}}</td>\n",
       "      <td>...</td>\n",
       "      <td>143.74413264102546</td>\n",
       "      <td>0.0165588948802172</td>\n",
       "      <td>6.12011149362317</td>\n",
       "      <td>0.1779624893435635</td>\n",
       "      <td>1972.0849022912257</td>\n",
       "      <td>3.5402573095824215</td>\n",
       "      <td>0.0009334119757378282</td>\n",
       "      <td>1483.2263634997792</td>\n",
       "      <td>0.10701153309807594</td>\n",
       "      <td>1.0848440176409921</td>\n",
       "    </tr>\n",
       "    <tr>\n",
       "      <th>1</th>\n",
       "      <td>../../data/MRI-Brain-Eye/Case2/7 t2_Flair_axia...</td>\n",
       "      <td>../../data/MRI-Brain-Eye/Case2/Segmentation_Ey...</td>\n",
       "      <td>2</td>\n",
       "      <td>v3.0.1</td>\n",
       "      <td>1.26.4</td>\n",
       "      <td>2.3.1-g42ce2</td>\n",
       "      <td>1.5.0</td>\n",
       "      <td>3.10.10</td>\n",
       "      <td>{'minimumROIDimensions': 2, 'minimumROISize': ...</td>\n",
       "      <td>{'Original': {}}</td>\n",
       "      <td>...</td>\n",
       "      <td>89.63527189334039</td>\n",
       "      <td>0.011517574782977553</td>\n",
       "      <td>6.031264647874513</td>\n",
       "      <td>0.24972647702407003</td>\n",
       "      <td>171.04926886676446</td>\n",
       "      <td>1.4260178519990565</td>\n",
       "      <td>0.002340576074194839</td>\n",
       "      <td>289.673667008558</td>\n",
       "      <td>0.08092096635016202</td>\n",
       "      <td>0.3530084647821763</td>\n",
       "    </tr>\n",
       "  </tbody>\n",
       "</table>\n",
       "<p>2 rows × 132 columns</p>\n",
       "</div>"
      ],
      "text/plain": [
       "                                       imageFilepath  \\\n",
       "0  ../../data/MRI-Brain-Eye/Case1/3 t1 axial Proc...   \n",
       "1  ../../data/MRI-Brain-Eye/Case2/7 t2_Flair_axia...   \n",
       "\n",
       "                                        maskFilepath  label  \\\n",
       "0  ../../data/MRI-Brain-Eye/Case1/Segmentation.se...      1   \n",
       "1  ../../data/MRI-Brain-Eye/Case2/Segmentation_Ey...      2   \n",
       "\n",
       "  diagnostics_Versions_PyRadiomics diagnostics_Versions_Numpy  \\\n",
       "0                           v3.0.1                     1.26.4   \n",
       "1                           v3.0.1                     1.26.4   \n",
       "\n",
       "  diagnostics_Versions_SimpleITK diagnostics_Versions_PyWavelet  \\\n",
       "0                   2.3.1-g42ce2                          1.5.0   \n",
       "1                   2.3.1-g42ce2                          1.5.0   \n",
       "\n",
       "  diagnostics_Versions_Python  \\\n",
       "0                     3.10.10   \n",
       "1                     3.10.10   \n",
       "\n",
       "                  diagnostics_Configuration_Settings  \\\n",
       "0  {'minimumROIDimensions': 2, 'minimumROISize': ...   \n",
       "1  {'minimumROIDimensions': 2, 'minimumROISize': ...   \n",
       "\n",
       "  diagnostics_Configuration_EnabledImageTypes  ...  \\\n",
       "0                            {'Original': {}}  ...   \n",
       "1                            {'Original': {}}  ...   \n",
       "\n",
       "  original_glszm_SmallAreaHighGrayLevelEmphasis  \\\n",
       "0                            143.74413264102546   \n",
       "1                             89.63527189334039   \n",
       "\n",
       "  original_glszm_SmallAreaLowGrayLevelEmphasis original_glszm_ZoneEntropy  \\\n",
       "0                           0.0165588948802172           6.12011149362317   \n",
       "1                         0.011517574782977553          6.031264647874513   \n",
       "\n",
       "  original_glszm_ZonePercentage  original_glszm_ZoneVariance  \\\n",
       "0            0.1779624893435635           1972.0849022912257   \n",
       "1           0.24972647702407003           171.04926886676446   \n",
       "\n",
       "   original_ngtdm_Busyness  original_ngtdm_Coarseness  \\\n",
       "0       3.5402573095824215      0.0009334119757378282   \n",
       "1       1.4260178519990565       0.002340576074194839   \n",
       "\n",
       "  original_ngtdm_Complexity original_ngtdm_Contrast original_ngtdm_Strength  \n",
       "0        1483.2263634997792     0.10701153309807594      1.0848440176409921  \n",
       "1          289.673667008558     0.08092096635016202      0.3530084647821763  \n",
       "\n",
       "[2 rows x 132 columns]"
      ]
     },
     "execution_count": 19,
     "metadata": {},
     "output_type": "execute_result"
    }
   ],
   "source": [
    "# Example lists of file paths and labels\n",
    "imageFilepaths = [\"../../data/MRI-Brain-Eye/Case1/3 t1 axial Processed_CaPTk.nrrd\", \"../../data/MRI-Brain-Eye/Case2/7 t2_Flair_axial Processed_CaPTk_2.nrrd\"]\n",
    "maskFilepaths = [\"../../data/MRI-Brain-Eye/Case1/Segmentation.seg.nrrd\", \"../../data/MRI-Brain-Eye/Case2/Segmentation_Eye.seg.nrrd\"]\n",
    "labels = [1, 2]  # Example labels for each segment\n",
    "\n",
    "# Call function\n",
    "radiomics_df = radiomics_extract_to_df(imageFilepaths, maskFilepaths, labels)\n",
    "radiomics_df"
   ]
  }
 ],
 "metadata": {
  "kernelspec": {
   "display_name": "Python 3",
   "language": "python",
   "name": "python3"
  },
  "language_info": {
   "codemirror_mode": {
    "name": "ipython",
    "version": 3
   },
   "file_extension": ".py",
   "mimetype": "text/x-python",
   "name": "python",
   "nbconvert_exporter": "python",
   "pygments_lexer": "ipython3",
   "version": "3.10.10"
  }
 },
 "nbformat": 4,
 "nbformat_minor": 2
}
